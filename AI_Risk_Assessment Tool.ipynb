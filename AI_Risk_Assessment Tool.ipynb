{
 "cells": [
  {
   "cell_type": "code",
   "execution_count": null,
   "metadata": {},
   "outputs": [
    {
     "name": "stdout",
     "output_type": "stream",
     "text": [
      "Collecting gradio\n",
      "  Downloading gradio-5.16.0-py3-none-any.whl (62.2 MB)\n",
      "Requirement already satisfied: typing-extensions~=4.0 in c:\\users\\upadh\\appdata\\roaming\\python\\python310\\site-packages (from gradio) (4.12.2)\n",
      "Collecting huggingface-hub>=0.28.1\n",
      "  Downloading huggingface_hub-0.28.1-py3-none-any.whl (464 kB)\n",
      "Collecting semantic-version~=2.0\n",
      "  Downloading semantic_version-2.10.0-py2.py3-none-any.whl (15 kB)\n",
      "Requirement already satisfied: httpx>=0.24.1 in c:\\users\\upadh\\appdata\\local\\programs\\python\\python310\\lib\\site-packages (from gradio) (0.27.2)\n",
      "Collecting gradio-client==1.7.0\n",
      "  Downloading gradio_client-1.7.0-py3-none-any.whl (321 kB)\n",
      "Requirement already satisfied: packaging in c:\\users\\upadh\\appdata\\roaming\\python\\python310\\site-packages (from gradio) (24.1)\n",
      "Collecting safehttpx<0.2.0,>=0.1.6\n",
      "  Downloading safehttpx-0.1.6-py3-none-any.whl (8.7 kB)\n",
      "Requirement already satisfied: typer<1.0,>=0.12 in c:\\users\\upadh\\appdata\\local\\programs\\python\\python310\\lib\\site-packages (from gradio) (0.12.5)\n",
      "Requirement already satisfied: jinja2<4.0 in c:\\users\\upadh\\appdata\\local\\programs\\python\\python310\\lib\\site-packages (from gradio) (3.1.4)\n",
      "Requirement already satisfied: anyio<5.0,>=3.0 in c:\\users\\upadh\\appdata\\local\\programs\\python\\python310\\lib\\site-packages (from gradio) (4.6.2.post1)\n",
      "Requirement already satisfied: uvicorn>=0.14.0 in c:\\users\\upadh\\appdata\\local\\programs\\python\\python310\\lib\\site-packages (from gradio) (0.32.0)\n",
      "Requirement already satisfied: numpy<3.0,>=1.0 in c:\\users\\upadh\\appdata\\local\\programs\\python\\python310\\lib\\site-packages (from gradio) (2.1.2)\n",
      "Collecting pydub\n",
      "  Downloading pydub-0.25.1-py2.py3-none-any.whl (32 kB)\n",
      "Requirement already satisfied: pyyaml<7.0,>=5.0 in c:\\users\\upadh\\appdata\\local\\programs\\python\\python310\\lib\\site-packages (from gradio) (6.0.2)\n",
      "Collecting pandas<3.0,>=1.0\n",
      "  Using cached pandas-2.2.3-cp310-cp310-win_amd64.whl (11.6 MB)\n",
      "Collecting aiofiles<24.0,>=22.0\n",
      "  Downloading aiofiles-23.2.1-py3-none-any.whl (15 kB)\n",
      "Collecting markupsafe~=2.0\n",
      "  Downloading MarkupSafe-2.1.5-cp310-cp310-win_amd64.whl (17 kB)\n",
      "Requirement already satisfied: pillow<12.0,>=8.0 in c:\\users\\upadh\\appdata\\local\\programs\\python\\python310\\lib\\site-packages (from gradio) (11.0.0)\n",
      "Collecting python-multipart>=0.0.18\n",
      "  Downloading python_multipart-0.0.20-py3-none-any.whl (24 kB)\n",
      "Requirement already satisfied: pydantic>=2.0 in c:\\users\\upadh\\appdata\\local\\programs\\python\\python310\\lib\\site-packages (from gradio) (2.9.2)\n",
      "Collecting ruff>=0.9.3\n",
      "  Downloading ruff-0.9.6-py3-none-win_amd64.whl (11.0 MB)\n",
      "Requirement already satisfied: fastapi<1.0,>=0.115.2 in c:\\users\\upadh\\appdata\\local\\programs\\python\\python310\\lib\\site-packages (from gradio) (0.115.2)\n",
      "Collecting tomlkit<0.14.0,>=0.12.0\n",
      "  Downloading tomlkit-0.13.2-py3-none-any.whl (37 kB)\n",
      "Collecting ffmpy\n",
      "  Downloading ffmpy-0.5.0-py3-none-any.whl (6.0 kB)\n",
      "Requirement already satisfied: orjson~=3.0 in c:\\users\\upadh\\appdata\\local\\programs\\python\\python310\\lib\\site-packages (from gradio) (3.10.9)\n",
      "Requirement already satisfied: starlette<1.0,>=0.40.0 in c:\\users\\upadh\\appdata\\local\\programs\\python\\python310\\lib\\site-packages (from gradio) (0.40.0)\n",
      "Requirement already satisfied: websockets<15.0,>=10.0 in c:\\users\\upadh\\appdata\\local\\programs\\python\\python310\\lib\\site-packages (from gradio-client==1.7.0->gradio) (13.1)\n",
      "Requirement already satisfied: fsspec in c:\\users\\upadh\\appdata\\local\\programs\\python\\python310\\lib\\site-packages (from gradio-client==1.7.0->gradio) (2024.9.0)\n",
      "Requirement already satisfied: sniffio>=1.1 in c:\\users\\upadh\\appdata\\local\\programs\\python\\python310\\lib\\site-packages (from anyio<5.0,>=3.0->gradio) (1.3.1)\n",
      "Requirement already satisfied: idna>=2.8 in c:\\users\\upadh\\appdata\\local\\programs\\python\\python310\\lib\\site-packages (from anyio<5.0,>=3.0->gradio) (3.10)\n",
      "Requirement already satisfied: exceptiongroup>=1.0.2 in c:\\users\\upadh\\appdata\\roaming\\python\\python310\\site-packages (from anyio<5.0,>=3.0->gradio) (1.2.2)\n",
      "Requirement already satisfied: httpcore==1.* in c:\\users\\upadh\\appdata\\local\\programs\\python\\python310\\lib\\site-packages (from httpx>=0.24.1->gradio) (1.0.6)\n",
      "Requirement already satisfied: certifi in c:\\users\\upadh\\appdata\\local\\programs\\python\\python310\\lib\\site-packages (from httpx>=0.24.1->gradio) (2024.8.30)\n",
      "Requirement already satisfied: h11<0.15,>=0.13 in c:\\users\\upadh\\appdata\\local\\programs\\python\\python310\\lib\\site-packages (from httpcore==1.*->httpx>=0.24.1->gradio) (0.14.0)\n",
      "Requirement already satisfied: requests in c:\\users\\upadh\\appdata\\local\\programs\\python\\python310\\lib\\site-packages (from huggingface-hub>=0.28.1->gradio) (2.32.3)\n",
      "Requirement already satisfied: filelock in c:\\users\\upadh\\appdata\\local\\programs\\python\\python310\\lib\\site-packages (from huggingface-hub>=0.28.1->gradio) (3.16.1)\n",
      "Requirement already satisfied: tqdm>=4.42.1 in c:\\users\\upadh\\appdata\\local\\programs\\python\\python310\\lib\\site-packages (from huggingface-hub>=0.28.1->gradio) (4.66.5)\n",
      "Collecting pytz>=2020.1\n",
      "  Downloading pytz-2025.1-py2.py3-none-any.whl (507 kB)\n",
      "Collecting tzdata>=2022.7\n",
      "  Downloading tzdata-2025.1-py2.py3-none-any.whl (346 kB)\n",
      "Requirement already satisfied: python-dateutil>=2.8.2 in c:\\users\\upadh\\appdata\\roaming\\python\\python310\\site-packages (from pandas<3.0,>=1.0->gradio) (2.9.0.post0)\n",
      "Requirement already satisfied: pydantic-core==2.23.4 in c:\\users\\upadh\\appdata\\local\\programs\\python\\python310\\lib\\site-packages (from pydantic>=2.0->gradio) (2.23.4)\n",
      "Requirement already satisfied: annotated-types>=0.6.0 in c:\\users\\upadh\\appdata\\local\\programs\\python\\python310\\lib\\site-packages (from pydantic>=2.0->gradio) (0.7.0)\n",
      "Requirement already satisfied: six>=1.5 in c:\\users\\upadh\\appdata\\roaming\\python\\python310\\site-packages (from python-dateutil>=2.8.2->pandas<3.0,>=1.0->gradio) (1.16.0)\n",
      "Requirement already satisfied: colorama in c:\\users\\upadh\\appdata\\roaming\\python\\python310\\site-packages (from tqdm>=4.42.1->huggingface-hub>=0.28.1->gradio) (0.4.6)\n",
      "Requirement already satisfied: shellingham>=1.3.0 in c:\\users\\upadh\\appdata\\local\\programs\\python\\python310\\lib\\site-packages (from typer<1.0,>=0.12->gradio) (1.5.4)\n",
      "Requirement already satisfied: click>=8.0.0 in c:\\users\\upadh\\appdata\\local\\programs\\python\\python310\\lib\\site-packages (from typer<1.0,>=0.12->gradio) (8.1.7)\n",
      "Requirement already satisfied: rich>=10.11.0 in c:\\users\\upadh\\appdata\\local\\programs\\python\\python310\\lib\\site-packages (from typer<1.0,>=0.12->gradio) (13.9.2)\n",
      "Requirement already satisfied: pygments<3.0.0,>=2.13.0 in c:\\users\\upadh\\appdata\\roaming\\python\\python310\\site-packages (from rich>=10.11.0->typer<1.0,>=0.12->gradio) (2.18.0)\n",
      "Requirement already satisfied: markdown-it-py>=2.2.0 in c:\\users\\upadh\\appdata\\local\\programs\\python\\python310\\lib\\site-packages (from rich>=10.11.0->typer<1.0,>=0.12->gradio) (3.0.0)\n",
      "Requirement already satisfied: mdurl~=0.1 in c:\\users\\upadh\\appdata\\local\\programs\\python\\python310\\lib\\site-packages (from markdown-it-py>=2.2.0->rich>=10.11.0->typer<1.0,>=0.12->gradio) (0.1.2)\n",
      "Requirement already satisfied: urllib3<3,>=1.21.1 in c:\\users\\upadh\\appdata\\local\\programs\\python\\python310\\lib\\site-packages (from requests->huggingface-hub>=0.28.1->gradio) (2.2.3)\n",
      "Requirement already satisfied: charset-normalizer<4,>=2 in c:\\users\\upadh\\appdata\\local\\programs\\python\\python310\\lib\\site-packages (from requests->huggingface-hub>=0.28.1->gradio) (3.4.0)\n",
      "Installing collected packages: tzdata, pytz, markupsafe, huggingface-hub, tomlkit, semantic-version, safehttpx, ruff, python-multipart, pydub, pandas, gradio-client, ffmpy, aiofiles, gradio\n",
      "  Attempting uninstall: markupsafe\n",
      "    Found existing installation: MarkupSafe 3.0.2\n",
      "    Uninstalling MarkupSafe-3.0.2:\n",
      "      Successfully uninstalled MarkupSafe-3.0.2\n",
      "  Attempting uninstall: huggingface-hub\n",
      "    Found existing installation: huggingface-hub 0.26.0\n",
      "    Uninstalling huggingface-hub-0.26.0:\n",
      "      Successfully uninstalled huggingface-hub-0.26.0\n",
      "Successfully installed aiofiles-23.2.1 ffmpy-0.5.0 gradio-5.16.0 gradio-client-1.7.0 huggingface-hub-0.28.1 markupsafe-2.1.5 pandas-2.2.3 pydub-0.25.1 python-multipart-0.0.20 pytz-2025.1 ruff-0.9.6 safehttpx-0.1.6 semantic-version-2.10.0 tomlkit-0.13.2 tzdata-2025.1\n",
      "Note: you may need to restart the kernel to use updated packages.\n"
     ]
    },
    {
     "name": "stderr",
     "output_type": "stream",
     "text": [
      "  WARNING: The script huggingface-cli.exe is installed in 'c:\\Users\\upadh\\AppData\\Local\\Programs\\Python\\Python310\\Scripts' which is not on PATH.\n",
      "  Consider adding this directory to PATH or, if you prefer to suppress this warning, use --no-warn-script-location.\n",
      "  WARNING: The scripts gradio.exe and upload_theme.exe are installed in 'c:\\Users\\upadh\\AppData\\Local\\Programs\\Python\\Python310\\Scripts' which is not on PATH.\n",
      "  Consider adding this directory to PATH or, if you prefer to suppress this warning, use --no-warn-script-location.\n",
      "WARNING: You are using pip version 21.2.3; however, version 25.0.1 is available.\n",
      "You should consider upgrading via the 'c:\\Users\\upadh\\AppData\\Local\\Programs\\Python\\Python310\\python.exe -m pip install --upgrade pip' command.\n"
     ]
    }
   ],
   "source": [
    "pip install gradio"
   ]
  },
  {
   "cell_type": "code",
   "execution_count": null,
   "metadata": {},
   "outputs": [
    {
     "name": "stderr",
     "output_type": "stream",
     "text": [
      "Loading checkpoint shards: 100%|██████████| 2/2 [00:28<00:00, 14.26s/it]\n"
     ]
    },
    {
     "name": "stdout",
     "output_type": "stream",
     "text": [
      "* Running on local URL:  http://127.0.0.1:7861\n",
      "\n",
      "To create a public link, set `share=True` in `launch()`.\n"
     ]
    },
    {
     "data": {
      "text/html": [
       "<div><iframe src=\"http://127.0.0.1:7861/\" width=\"100%\" height=\"500\" allow=\"autoplay; camera; microphone; clipboard-read; clipboard-write;\" frameborder=\"0\" allowfullscreen></iframe></div>"
      ],
      "text/plain": [
       "<IPython.core.display.HTML object>"
      ]
     },
     "metadata": {},
     "output_type": "display_data"
    },
    {
     "data": {
      "text/plain": []
     },
     "execution_count": 5,
     "metadata": {},
     "output_type": "execute_result"
    },
    {
     "name": "stderr",
     "output_type": "stream",
     "text": [
      "Setting `pad_token_id` to `eos_token_id`:None for open-end generation.\n",
      "Starting from v4.46, the `logits` model output will have the same type as the model (except at train time, where it will always be FP32)\n"
     ]
    }
   ],
   "source": [
    "import os\n",
    "import gradio as gr\n",
    "import torch\n",
    "from transformers import AutoModelForCausalLM, AutoTokenizer\n",
    "\n",
    "# Set your Hugging Face token as an environment variable\n",
    "os.environ[\"HF_TOKEN\"] = \"Your_HF_Token\"\n",
    "\n",
    "# Model and tokenizer initialization\n",
    "model_name = \"meta-llama/Llama-3.2-3B-Instruct\"\n",
    "\n",
    "tokenizer = AutoTokenizer.from_pretrained(model_name, token=os.environ[\"HF_TOKEN\"])\n",
    "tokenizer.pad_token = tokenizer.eos_token  # Set padding token\n",
    "\n",
    "model = AutoModelForCausalLM.from_pretrained(model_name, token=os.environ[\"HF_TOKEN\"])\n",
    "\n",
    "# AI Risk Assessment Prompt\n",
    "risk_prompt = \"\"\"\n",
    "We are developing an AI-driven risk assessment tool that utilizes Chain of Thought (CoT) reasoning to evaluate business risks \n",
    "(e.g., market fluctuations, supply chain disruptions) and provide mitigation strategies. The model should follow structured risk \n",
    "analysis methodologies such as ISO 31000, COSO ERM, or other recognized frameworks.\n",
    "\n",
    "1. Risk Identification and Categorization\n",
    "- Identify key business risks across financial, operational, strategic, and compliance domains.\n",
    "- Utilize real-world business cases from companies like Tesla (supply chain risks), Amazon (logistics disruptions), and Starbucks (market expansion risks).\n",
    "- Incorporate external data sources (such as financial reports, industry trend analysis, and market sentiment) to assess emerging risks.\n",
    "\n",
    "2. Chain of Thought (CoT) Based Risk Evaluation\n",
    "- Use CoT reasoning to break down risk scenarios step by step.\n",
    "- Assess risks using quantitative (risk scoring models) and qualitative (scenario analysis) approaches.\n",
    "- Implement Monte Carlo simulations, Decision Trees, or Bayesian Networks for risk modeling where applicable.\n",
    "\n",
    "3. Mitigation Strategy Development\n",
    "- Recommend proactive and reactive risk mitigation strategies tailored to business contexts.\n",
    "- Align mitigation strategies with frameworks like ISO 31000 and COSO ERM.\n",
    "- Provide a strategic roadmap for business continuity planning.\n",
    "\n",
    "4. AI Performance Evaluation Framework\n",
    "- Define KPIs such as risk prediction accuracy, mitigation effectiveness, and business impact reduction.\n",
    "- Evaluate AI-generated risk reports for completeness, relevance, and actionability.\n",
    "- Develop a structured evaluation framework to analyze how AI insights align with real-world risk scenarios.\n",
    "\n",
    "**Important Focus:**\n",
    "- Use external resources, if required, to get the latest technologies and information.\n",
    "- Ensure cost-effective mitigation strategies while being specific and advanced.\n",
    "\n",
    "**Next Step:**\n",
    "- Analyze this prompt well and ask for a new Business Use Case to be evaluated as per the prompt.\n",
    "\"\"\"\n",
    "\n",
    "def ai_risk_assessment(business_use_case):\n",
    "    \"\"\"Generates AI-driven risk assessment and mitigation strategies based on the input use case.\"\"\"\n",
    "    input_text = f\"{risk_prompt}\\n\\nNew Business Use Case: {business_use_case}\\n\\nProvide a detailed risk assessment and mitigation strategy.\"\n",
    "\n",
    "    inputs = tokenizer(input_text, return_tensors=\"pt\", truncation=True, padding=True).to(\"cuda\" if torch.cuda.is_available() else \"cpu\")\n",
    "    \n",
    "    model.to(\"cuda\" if torch.cuda.is_available() else \"cpu\")\n",
    "    \n",
    "    with torch.no_grad():\n",
    "        outputs = model.generate(**inputs, max_new_tokens=500)\n",
    "    \n",
    "    response = tokenizer.decode(outputs[0], skip_special_tokens=True)\n",
    "    return response\n",
    "\n",
    "# Gradio UI\n",
    "with gr.Blocks() as ui:\n",
    "    gr.Markdown(\"## AI-Driven Business Risk Assessment Tool\")\n",
    "    gr.Markdown(\"\"\"\n",
    "    Enter a business use case, and the AI will generate a detailed risk assessment and mitigation strategy\n",
    "    based on structured risk management frameworks.\n",
    "    \"\"\")\n",
    "    \n",
    "    business_input = gr.Textbox(label=\"Business Use Case\", placeholder=\"Enter your business scenario here...\")\n",
    "    output_box = gr.Textbox(label=\"AI-Generated Risk Assessment & Mitigation\", interactive=False, lines=10)\n",
    "    submit_button = gr.Button(\"Generate Analysis\")\n",
    "    \n",
    "    submit_button.click(ai_risk_assessment, inputs=[business_input], outputs=[output_box])\n",
    "\n",
    "# Launch the UI\n",
    "ui.launch()\n"
   ]
  },
  {
   "cell_type": "code",
   "execution_count": null,
   "metadata": {},
   "outputs": [],
   "source": []
  }
 ],
 "metadata": {
  "kernelspec": {
   "display_name": "Python 3",
   "language": "python",
   "name": "python3"
  },
  "language_info": {
   "codemirror_mode": {
    "name": "ipython",
    "version": 3
   },
   "file_extension": ".py",
   "mimetype": "text/x-python",
   "name": "python",
   "nbconvert_exporter": "python",
   "pygments_lexer": "ipython3",
   "version": "3.10.0"
  }
 },
 "nbformat": 4,
 "nbformat_minor": 2
}
